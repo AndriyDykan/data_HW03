{
 "cells": [
  {
   "cell_type": "code",
   "execution_count": 1,
   "id": "9eb89b74-d3fd-41cc-9e64-52a5058f88e2",
   "metadata": {},
   "outputs": [],
   "source": [
    "import pandas as pd\n",
    "import matplotlib.pyplot as plt\n",
    "import numpy as np\n"
   ]
  },
  {
   "cell_type": "raw",
   "id": "bc51e088-6682-410a-b9d0-2fe8e5ee6166",
   "metadata": {},
   "source": [
    "Знайдіть найкращі параметри $\\vec{w}$ для датасету прогнозуючу ціну на будинок залежно від площі, кількості ванних кімнат та кількості спалень"
   ]
  },
  {
   "cell_type": "code",
   "execution_count": 2,
   "id": "f3aed480-9a53-4100-aa64-c20a44793e64",
   "metadata": {},
   "outputs": [
    {
     "name": "stdout",
     "output_type": "stream",
     "text": [
      "Coefficients: [0.1953792  0.36554984 0.44195729]\n",
      "R2 Score on test data: 0.44852920246766537\n"
     ]
    }
   ],
   "source": [
    "import pandas as pd\n",
    "import numpy as np\n",
    "from sklearn.linear_model import LinearRegression\n",
    "from sklearn.model_selection import train_test_split\n",
    "\n",
    "from sklearn.metrics import r2_score\n",
    "from sklearn.preprocessing import StandardScaler\n",
    "\n",
    "df = pd.read_csv(\"Housing.csv\")\n",
    "\n",
    "df_slice = df[[\"bedrooms\", \"bathrooms\", \"area\", \"price\"]]\n",
    "train_data, test_data = train_test_split(df_slice, shuffle=True, test_size=0.25, random_state=0)\n",
    "\n",
    "scaler = StandardScaler()\n",
    "train_data_normalized = scaler.fit_transform(train_data)\n",
    "test_data_normalized = scaler.transform(test_data)\n",
    "\n",
    "x_train = train_data_normalized[:, :-1]\n",
    "y_train = train_data_normalized[:, -1]\n",
    "\n",
    "x_test = test_data_normalized[:, :-1]\n",
    "y_test = test_data_normalized[:, -1]\n",
    "\n",
    "\n",
    "model = LinearRegression().fit(x_train, y_train)\n",
    "print(\"Coefficients:\", model.coef_)\n",
    "\n",
    "predictions_train = model.predict(x_train)\n",
    "\n",
    "predictions_test = model.predict(x_test)\n",
    "\n",
    "accu = r2_score(y_test, predictions_test)\n",
    "print(\"R2 Score on test data:\", accu)"
   ]
  },
  {
   "cell_type": "code",
   "execution_count": 3,
   "id": "bfd2bc6c-94b1-4806-8f18-f7c197370520",
   "metadata": {},
   "outputs": [],
   "source": [
    "\n",
    "def loss_function(X, y, theta):\n",
    "    m = len(y)\n",
    "    predictions = hypothesis(X, theta)\n",
    "    loss = (1/(2*m)) * np.sum((predictions - y)**2)\n",
    "    return loss\n",
    "\n",
    "def hypothesis(X, theta):\n",
    "    return X.dot(theta)\n",
    "\n",
    "def gradient_descent_step(X, y, theta, learning_rate):\n",
    "    m = len(y)\n",
    "    predictions = hypothesis(X, theta)\n",
    "    gradient = (1/m) * X.T.dot(predictions - y)\n",
    "    theta = theta - learning_rate * gradient\n",
    "    return theta\n"
   ]
  },
  {
   "cell_type": "code",
   "execution_count": 4,
   "id": "b1c3f4e5-a9ca-4dc1-8f3c-106224e3ce70",
   "metadata": {},
   "outputs": [
    {
     "name": "stdout",
     "output_type": "stream",
     "text": [
      "Accuracy: 0.45281558046785797\n",
      "Accuracy: 0.5020067605689864\n"
     ]
    },
    {
     "data": {
      "text/plain": [
       "array([0.18465514, 0.26677298, 0.30148466])"
      ]
     },
     "execution_count": 4,
     "metadata": {},
     "output_type": "execute_result"
    }
   ],
   "source": [
    "\n",
    "\n",
    "\n",
    "class regression:\n",
    "    def __init__(self, learning_rate=0.0001, n_iters=100):\n",
    "        self.lr = learning_rate\n",
    "        self.n_iters = n_iters\n",
    "        self.weights = None\n",
    "        self.bias = None\n",
    "\n",
    "    def fit(self, X, y):\n",
    "        n_samples, n_features = X.shape\n",
    "\n",
    "\n",
    "        self.weights = np.zeros(n_features)\n",
    "        self.bias = 0\n",
    "\n",
    "  \n",
    "        for _ in range(self.n_iters):\n",
    "            y_predicted = np.dot(X, self.weights) + self.bias\n",
    "            dw = (1 / n_samples) * np.dot(X.T, (y_predicted - y))\n",
    "            db = (1 / n_samples) * np.sum(y_predicted - y)\n",
    "            self.weights -= self.lr * dw\n",
    "            self.bias -= self.lr * db\n",
    "\n",
    "    def predict(self, X):\n",
    "        y_approximated = np.dot(X, self.weights) + self.bias\n",
    "        return y_approximated\n",
    "\n",
    "regressor = regression(learning_rate=0.001, n_iters=1000)\n",
    "regressor.fit(x_train, y_train)\n",
    "predictions = regressor.predict(x_train)\n",
    "\n",
    "\n",
    "accu = r2_score(y_train, predictions)\n",
    "print(\"Accuracy:\", accu)\n",
    "\n",
    "predictions = regressor.predict(x_test)\n",
    "\n",
    "accu = r2_score(y_test, predictions)\n",
    "print(\"Accuracy:\", accu)\n",
    "regressor.weights"
   ]
  },
  {
   "cell_type": "code",
   "execution_count": null,
   "id": "63dd5f82-fab6-4772-b3b9-8e140853ee19",
   "metadata": {},
   "outputs": [],
   "source": []
  }
 ],
 "metadata": {
  "kernelspec": {
   "display_name": "Python 3 (ipykernel)",
   "language": "python",
   "name": "python3"
  },
  "language_info": {
   "codemirror_mode": {
    "name": "ipython",
    "version": 3
   },
   "file_extension": ".py",
   "mimetype": "text/x-python",
   "name": "python",
   "nbconvert_exporter": "python",
   "pygments_lexer": "ipython3",
   "version": "3.11.8"
  }
 },
 "nbformat": 4,
 "nbformat_minor": 5
}
